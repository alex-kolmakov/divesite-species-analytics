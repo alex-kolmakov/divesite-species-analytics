{
 "cells": [
  {
   "cell_type": "code",
   "execution_count": null,
   "metadata": {},
   "outputs": [],
   "source": []
  },
  {
   "cell_type": "code",
   "execution_count": null,
   "metadata": {},
   "outputs": [],
   "source": [
    "import pyarrow.parquet as pq\n",
    "import pandas as pd\n",
    "\n",
    "chunk_size = 10000\n",
    "parquet_file = pq.ParquetFile(\"/Users/helloworld/Projects/obis.parquet\")\n",
    "parquet_file.num_row_groups\n",
    "print(\"\\n\".join(list(parquet_file.read_row_group(0).to_pandas(split_blocks=True, self_destruct=True).columns)))\n",
    "# for i in range(0, parquet_file.num_row_groups, chunk_size):\n",
    "#     table = parquet_file.read_row_group(i, i + chunk_size)\n",
    "#     chunk_df = table.to_pandas(split_blocks=True, self_destruct=True)\n",
    "#     continue\n",
    "# chunk_df"
   ]
  },
  {
   "cell_type": "code",
   "execution_count": 27,
   "metadata": {},
   "outputs": [
    {
     "name": "stdout",
     "output_type": "stream",
     "text": [
      "┌────────────┬──────────────────────────┐\n",
      "│ avg(depth) │         species          │\n",
      "│   double   │         varchar          │\n",
      "├────────────┼──────────────────────────┤\n",
      "│     6982.5 │ Torbenwolffia galatheae  │\n",
      "│     6982.5 │ Abyssura brevibrachia    │\n",
      "│     6980.0 │ Peniagone azorica        │\n",
      "│     6980.0 │ Crossaster papposus      │\n",
      "│     6980.0 │ Monoculodes coecus       │\n",
      "│     6980.0 │ Ophiocten sericeum       │\n",
      "│     6980.0 │ Ophiostriatus striatus   │\n",
      "│     6980.0 │ Tmetonyx cicada          │\n",
      "│     6980.0 │ Tryphosella triangula    │\n",
      "│     6980.0 │ Ophiura robusta          │\n",
      "│        ·   │        ·                 │\n",
      "│        ·   │        ·                 │\n",
      "│        ·   │        ·                 │\n",
      "│     4833.0 │ Dictyocoryne truncatum   │\n",
      "│     4833.0 │ Lophophaena hispida      │\n",
      "│     4833.0 │ Actinomma sol            │\n",
      "│     4833.0 │ Artostrobus joergenseni  │\n",
      "│     4833.0 │ Botryopyle cribrosa      │\n",
      "│     4833.0 │ Anthocyrtidium ophirense │\n",
      "│     4833.0 │ Amphirhopalum straussii  │\n",
      "│     4833.0 │ Tholospyris gephyristes  │\n",
      "│     4833.0 │ Scomber scombrus         │\n",
      "│     4833.0 │ Arachnocorys umbellifera │\n",
      "├────────────┴──────────────────────────┤\n",
      "│     ? rows (>9999 rows, 20 shown)     │\n",
      "└───────────────────────────────────────┘\n",
      "\n"
     ]
    }
   ],
   "source": [
    "import polars as pl\n",
    "import duckdb\n",
    "\n",
    "columns = [\n",
    "    \"decimalLongitude\",\n",
    "    \"decimalLatitude\",\n",
    "    \"depth\",\n",
    "    \"species\",\n",
    "    # \"individualCount\",\n",
    "    # \"eventDate\",\n",
    "    # \"eventTime\"\n",
    "]\n",
    "duckdb.sql(f\"SELECT avg(depth), species FROM '/Users/helloworld/Projects/obis.parquet' WHERE depth < 7000 AND species is not Null Group by species, depth ORDER BY depth DESC\").show()"
   ]
  },
  {
   "cell_type": "code",
   "execution_count": null,
   "metadata": {},
   "outputs": [],
   "source": []
  }
 ],
 "metadata": {
  "kernelspec": {
   "display_name": ".venv",
   "language": "python",
   "name": "python3"
  },
  "language_info": {
   "codemirror_mode": {
    "name": "ipython",
    "version": 3
   },
   "file_extension": ".py",
   "mimetype": "text/x-python",
   "name": "python",
   "nbconvert_exporter": "python",
   "pygments_lexer": "ipython3",
   "version": "3.12.4"
  }
 },
 "nbformat": 4,
 "nbformat_minor": 2
}
